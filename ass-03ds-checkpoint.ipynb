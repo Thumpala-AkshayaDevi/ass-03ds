{
 "cells": [
  {
   "cell_type": "code",
   "execution_count": 8,
   "id": "350378a8",
   "metadata": {},
   "outputs": [
    {
     "name": "stdout",
     "output_type": "stream",
     "text": [
      "Height of the tree: 3\n",
      "Pre-order traversal:\n",
      "1 2 4 5 3 \n",
      "\n",
      "In-order traversal:\n",
      "4 2 5 1 3 \n",
      "\n",
      "Post-order traversal:\n",
      "4 5 2 3 1 \n",
      "\n",
      "Leaves of the tree:\n",
      "4 5 3 \n",
      "\n",
      "BFS:\n",
      "1 2 3 4 5 \n",
      "\n",
      "DFS:\n",
      "1 2 4 5 3 \n",
      "\n",
      "Sum of left leaves: 4\n",
      "Sum of nodes in perfect binary tree: 21\n",
      "Count of subtrees with sum 7 : 0\n",
      "Maximum level sum: 9\n",
      "Nodes at odd levels:\n",
      "1 4 5 "
     ]
    }
   ],
   "source": [
    "root = Node(1)\n",
    "root.left = Node(2)\n",
    "root.right = Node(3)\n",
    "root.left.left = Node(4)\n",
    "root.left.right = Node(5)\n",
    "\n",
    "height = find_height(root)\n",
    "print(\"Height of the tree:\", height)\n",
    "\n",
    "\n",
    "print(\"Pre-order traversal:\")\n",
    "preorder_traversal(root)\n",
    "print(\"\\n\")\n",
    "\n",
    "print(\"In-order traversal:\")\n",
    "inorder_traversal(root)\n",
    "print(\"\\n\")\n",
    "\n",
    "print(\"Post-order traversal:\")\n",
    "postorder_traversal(root)\n",
    "print(\"\\n\")\n",
    "\n",
    "\n",
    "print(\"Leaves of the tree:\")\n",
    "print_leaves(root)\n",
    "print(\"\\n\")\n",
    "\n",
    "\n",
    "print(\"BFS:\")\n",
    "bfs(root)\n",
    "print(\"\\n\")\n",
    "\n",
    "print(\"DFS:\")\n",
    "dfs(root)\n",
    "print(\"\\n\")\n",
    "\n",
    "left_leaves_sum = sum_left_leaves(root)\n",
    "print(\"Sum of left leaves:\", left_leaves_sum)\n",
    "\n",
    "perfect_tree_sum = sum_perfect_binary_tree(root)\n",
    "print(\"Sum of nodes in perfect binary tree:\", perfect_tree_sum)\n",
    "\n",
    "target_sum = 7\n",
    "subtree_count = count_subtrees_with_sum(root, target_sum)\n",
    "print(\"Count of subtrees with sum\", target_sum, \":\", subtree_count)\n",
    "\n",
    "max_sum = max_level_sum(root)\n",
    "print(\"Maximum level sum:\", max_sum)\n",
    "\n",
    "print(\"Nodes at odd levels:\")\n",
    "print_odd_level_nodes(root)\n"
   ]
  },
  {
   "cell_type": "code",
   "execution_count": null,
   "id": "53f746f0",
   "metadata": {},
   "outputs": [],
   "source": []
  }
 ],
 "metadata": {
  "kernelspec": {
   "display_name": "Python 3 (ipykernel)",
   "language": "python",
   "name": "python3"
  },
  "language_info": {
   "codemirror_mode": {
    "name": "ipython",
    "version": 3
   },
   "file_extension": ".py",
   "mimetype": "text/x-python",
   "name": "python",
   "nbconvert_exporter": "python",
   "pygments_lexer": "ipython3",
   "version": "3.10.9"
  }
 },
 "nbformat": 4,
 "nbformat_minor": 5
}
